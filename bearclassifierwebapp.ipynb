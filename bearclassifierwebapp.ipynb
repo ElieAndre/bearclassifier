{
 "cells": [
  {
   "cell_type": "code",
   "execution_count": 1,
   "id": "097c4d3c-9314-425a-a6f3-d12e1215b3cd",
   "metadata": {},
   "outputs": [
    {
     "name": "stdout",
     "output_type": "stream",
     "text": [
      "Collecting voila\n",
      "  Downloading voila-0.5.7-py3-none-any.whl (3.9 MB)\n",
      "                                              0.0/3.9 MB ? eta -:--:--\n",
      "     ------                                   0.6/3.9 MB 13.3 MB/s eta 0:00:01\n",
      "     ----------                               1.1/3.9 MB 11.4 MB/s eta 0:00:01\n",
      "     -----------------                        1.7/3.9 MB 12.1 MB/s eta 0:00:01\n",
      "     ------------------------                 2.5/3.9 MB 13.1 MB/s eta 0:00:01\n",
      "     -------------------------------          3.2/3.9 MB 13.4 MB/s eta 0:00:01\n",
      "     ---------------------------------------  3.9/3.9 MB 13.7 MB/s eta 0:00:01\n",
      "     ---------------------------------------- 3.9/3.9 MB 12.6 MB/s eta 0:00:00\n",
      "Requirement already satisfied: jupyter-client<9,>=7.4.4 in c:\\users\\elied\\anaconda3\\lib\\site-packages (from voila) (7.4.9)\n",
      "Requirement already satisfied: jupyter-core>=4.11.0 in c:\\users\\elied\\anaconda3\\lib\\site-packages (from voila) (5.3.0)\n",
      "Requirement already satisfied: jupyter-server<3,>=2.0.0 in c:\\users\\elied\\anaconda3\\lib\\site-packages (from voila) (2.14.0)\n",
      "Requirement already satisfied: jupyterlab-server<3,>=2.3.0 in c:\\users\\elied\\anaconda3\\lib\\site-packages (from voila) (2.22.0)\n",
      "Requirement already satisfied: nbclient>=0.4.0 in c:\\users\\elied\\anaconda3\\lib\\site-packages (from voila) (0.5.13)\n",
      "Requirement already satisfied: nbconvert<8,>=6.4.5 in c:\\users\\elied\\anaconda3\\lib\\site-packages (from voila) (6.5.4)\n",
      "Requirement already satisfied: traitlets<6,>=5.0.3 in c:\\users\\elied\\anaconda3\\lib\\site-packages (from voila) (5.7.1)\n",
      "Collecting websockets>=9.0 (from voila)\n",
      "  Downloading websockets-12.0-cp311-cp311-win_amd64.whl (124 kB)\n",
      "                                              0.0/125.0 kB ? eta -:--:--\n",
      "     -------------------------------------- 125.0/125.0 kB 7.2 MB/s eta 0:00:00\n",
      "Requirement already satisfied: entrypoints in c:\\users\\elied\\anaconda3\\lib\\site-packages (from jupyter-client<9,>=7.4.4->voila) (0.4)\n",
      "Requirement already satisfied: nest-asyncio>=1.5.4 in c:\\users\\elied\\anaconda3\\lib\\site-packages (from jupyter-client<9,>=7.4.4->voila) (1.5.6)\n",
      "Requirement already satisfied: python-dateutil>=2.8.2 in c:\\users\\elied\\anaconda3\\lib\\site-packages (from jupyter-client<9,>=7.4.4->voila) (2.8.2)\n",
      "Requirement already satisfied: pyzmq>=23.0 in c:\\users\\elied\\anaconda3\\lib\\site-packages (from jupyter-client<9,>=7.4.4->voila) (26.0.3)\n",
      "Requirement already satisfied: tornado>=6.2 in c:\\users\\elied\\anaconda3\\lib\\site-packages (from jupyter-client<9,>=7.4.4->voila) (6.2)\n",
      "Requirement already satisfied: platformdirs>=2.5 in c:\\users\\elied\\anaconda3\\lib\\site-packages (from jupyter-core>=4.11.0->voila) (2.5.2)\n",
      "Requirement already satisfied: pywin32>=300 in c:\\users\\elied\\anaconda3\\lib\\site-packages (from jupyter-core>=4.11.0->voila) (305.1)\n",
      "Requirement already satisfied: anyio>=3.1.0 in c:\\users\\elied\\anaconda3\\lib\\site-packages (from jupyter-server<3,>=2.0.0->voila) (3.5.0)\n",
      "Requirement already satisfied: argon2-cffi>=21.1 in c:\\users\\elied\\anaconda3\\lib\\site-packages (from jupyter-server<3,>=2.0.0->voila) (21.3.0)\n",
      "Requirement already satisfied: jinja2>=3.0.3 in c:\\users\\elied\\anaconda3\\lib\\site-packages (from jupyter-server<3,>=2.0.0->voila) (3.1.2)\n",
      "Requirement already satisfied: jupyter-events>=0.9.0 in c:\\users\\elied\\anaconda3\\lib\\site-packages (from jupyter-server<3,>=2.0.0->voila) (0.10.0)\n",
      "Requirement already satisfied: jupyter-server-terminals>=0.4.4 in c:\\users\\elied\\anaconda3\\lib\\site-packages (from jupyter-server<3,>=2.0.0->voila) (0.4.4)\n",
      "Requirement already satisfied: nbformat>=5.3.0 in c:\\users\\elied\\anaconda3\\lib\\site-packages (from jupyter-server<3,>=2.0.0->voila) (5.7.0)\n",
      "Requirement already satisfied: overrides>=5.0 in c:\\users\\elied\\anaconda3\\lib\\site-packages (from jupyter-server<3,>=2.0.0->voila) (7.7.0)\n",
      "Requirement already satisfied: packaging>=22.0 in c:\\users\\elied\\anaconda3\\lib\\site-packages (from jupyter-server<3,>=2.0.0->voila) (23.0)\n",
      "Requirement already satisfied: prometheus-client>=0.9 in c:\\users\\elied\\anaconda3\\lib\\site-packages (from jupyter-server<3,>=2.0.0->voila) (0.14.1)\n",
      "Requirement already satisfied: pywinpty>=2.0.1 in c:\\users\\elied\\anaconda3\\lib\\site-packages (from jupyter-server<3,>=2.0.0->voila) (2.0.10)\n",
      "Requirement already satisfied: send2trash>=1.8.2 in c:\\users\\elied\\anaconda3\\lib\\site-packages (from jupyter-server<3,>=2.0.0->voila) (1.8.3)\n",
      "Requirement already satisfied: terminado>=0.8.3 in c:\\users\\elied\\anaconda3\\lib\\site-packages (from jupyter-server<3,>=2.0.0->voila) (0.17.1)\n",
      "Requirement already satisfied: websocket-client>=1.7 in c:\\users\\elied\\anaconda3\\lib\\site-packages (from jupyter-server<3,>=2.0.0->voila) (1.8.0)\n",
      "Requirement already satisfied: babel>=2.10 in c:\\users\\elied\\anaconda3\\lib\\site-packages (from jupyterlab-server<3,>=2.3.0->voila) (2.11.0)\n",
      "Requirement already satisfied: json5>=0.9.0 in c:\\users\\elied\\anaconda3\\lib\\site-packages (from jupyterlab-server<3,>=2.3.0->voila) (0.9.6)\n",
      "Requirement already satisfied: jsonschema>=4.17.3 in c:\\users\\elied\\anaconda3\\lib\\site-packages (from jupyterlab-server<3,>=2.3.0->voila) (4.22.0)\n",
      "Requirement already satisfied: requests>=2.28 in c:\\users\\elied\\anaconda3\\lib\\site-packages (from jupyterlab-server<3,>=2.3.0->voila) (2.29.0)\n",
      "Requirement already satisfied: lxml in c:\\users\\elied\\anaconda3\\lib\\site-packages (from nbconvert<8,>=6.4.5->voila) (4.9.2)\n",
      "Requirement already satisfied: beautifulsoup4 in c:\\users\\elied\\anaconda3\\lib\\site-packages (from nbconvert<8,>=6.4.5->voila) (4.12.2)\n",
      "Requirement already satisfied: bleach in c:\\users\\elied\\anaconda3\\lib\\site-packages (from nbconvert<8,>=6.4.5->voila) (4.1.0)\n",
      "Requirement already satisfied: defusedxml in c:\\users\\elied\\anaconda3\\lib\\site-packages (from nbconvert<8,>=6.4.5->voila) (0.7.1)\n",
      "Requirement already satisfied: jupyterlab-pygments in c:\\users\\elied\\anaconda3\\lib\\site-packages (from nbconvert<8,>=6.4.5->voila) (0.1.2)\n",
      "Requirement already satisfied: MarkupSafe>=2.0 in c:\\users\\elied\\anaconda3\\lib\\site-packages (from nbconvert<8,>=6.4.5->voila) (2.1.1)\n",
      "Requirement already satisfied: mistune<2,>=0.8.1 in c:\\users\\elied\\anaconda3\\lib\\site-packages (from nbconvert<8,>=6.4.5->voila) (0.8.4)\n",
      "Requirement already satisfied: pandocfilters>=1.4.1 in c:\\users\\elied\\anaconda3\\lib\\site-packages (from nbconvert<8,>=6.4.5->voila) (1.5.0)\n",
      "Requirement already satisfied: pygments>=2.4.1 in c:\\users\\elied\\anaconda3\\lib\\site-packages (from nbconvert<8,>=6.4.5->voila) (2.15.1)\n",
      "Requirement already satisfied: tinycss2 in c:\\users\\elied\\anaconda3\\lib\\site-packages (from nbconvert<8,>=6.4.5->voila) (1.2.1)\n",
      "Requirement already satisfied: idna>=2.8 in c:\\users\\elied\\anaconda3\\lib\\site-packages (from anyio>=3.1.0->jupyter-server<3,>=2.0.0->voila) (3.4)\n",
      "Requirement already satisfied: sniffio>=1.1 in c:\\users\\elied\\anaconda3\\lib\\site-packages (from anyio>=3.1.0->jupyter-server<3,>=2.0.0->voila) (1.2.0)\n",
      "Requirement already satisfied: argon2-cffi-bindings in c:\\users\\elied\\anaconda3\\lib\\site-packages (from argon2-cffi>=21.1->jupyter-server<3,>=2.0.0->voila) (21.2.0)\n",
      "Requirement already satisfied: pytz>=2015.7 in c:\\users\\elied\\anaconda3\\lib\\site-packages (from babel>=2.10->jupyterlab-server<3,>=2.3.0->voila) (2022.7)\n",
      "Requirement already satisfied: attrs>=22.2.0 in c:\\users\\elied\\anaconda3\\lib\\site-packages (from jsonschema>=4.17.3->jupyterlab-server<3,>=2.3.0->voila) (23.2.0)\n",
      "Requirement already satisfied: jsonschema-specifications>=2023.03.6 in c:\\users\\elied\\anaconda3\\lib\\site-packages (from jsonschema>=4.17.3->jupyterlab-server<3,>=2.3.0->voila) (2023.12.1)\n",
      "Requirement already satisfied: referencing>=0.28.4 in c:\\users\\elied\\anaconda3\\lib\\site-packages (from jsonschema>=4.17.3->jupyterlab-server<3,>=2.3.0->voila) (0.35.1)\n",
      "Requirement already satisfied: rpds-py>=0.7.1 in c:\\users\\elied\\anaconda3\\lib\\site-packages (from jsonschema>=4.17.3->jupyterlab-server<3,>=2.3.0->voila) (0.18.1)\n",
      "Requirement already satisfied: python-json-logger>=2.0.4 in c:\\users\\elied\\anaconda3\\lib\\site-packages (from jupyter-events>=0.9.0->jupyter-server<3,>=2.0.0->voila) (2.0.7)\n",
      "Requirement already satisfied: pyyaml>=5.3 in c:\\users\\elied\\anaconda3\\lib\\site-packages (from jupyter-events>=0.9.0->jupyter-server<3,>=2.0.0->voila) (6.0)\n",
      "Requirement already satisfied: rfc3339-validator in c:\\users\\elied\\anaconda3\\lib\\site-packages (from jupyter-events>=0.9.0->jupyter-server<3,>=2.0.0->voila) (0.1.4)\n",
      "Requirement already satisfied: rfc3986-validator>=0.1.1 in c:\\users\\elied\\anaconda3\\lib\\site-packages (from jupyter-events>=0.9.0->jupyter-server<3,>=2.0.0->voila) (0.1.1)\n",
      "Requirement already satisfied: fastjsonschema in c:\\users\\elied\\anaconda3\\lib\\site-packages (from nbformat>=5.3.0->jupyter-server<3,>=2.0.0->voila) (2.16.2)\n",
      "Requirement already satisfied: six>=1.5 in c:\\users\\elied\\anaconda3\\lib\\site-packages (from python-dateutil>=2.8.2->jupyter-client<9,>=7.4.4->voila) (1.16.0)\n",
      "Requirement already satisfied: charset-normalizer<4,>=2 in c:\\users\\elied\\anaconda3\\lib\\site-packages (from requests>=2.28->jupyterlab-server<3,>=2.3.0->voila) (2.0.4)\n",
      "Requirement already satisfied: urllib3<1.27,>=1.21.1 in c:\\users\\elied\\anaconda3\\lib\\site-packages (from requests>=2.28->jupyterlab-server<3,>=2.3.0->voila) (1.26.16)\n",
      "Requirement already satisfied: certifi>=2017.4.17 in c:\\users\\elied\\anaconda3\\lib\\site-packages (from requests>=2.28->jupyterlab-server<3,>=2.3.0->voila) (2024.2.2)\n",
      "Requirement already satisfied: soupsieve>1.2 in c:\\users\\elied\\anaconda3\\lib\\site-packages (from beautifulsoup4->nbconvert<8,>=6.4.5->voila) (2.4)\n",
      "Requirement already satisfied: webencodings in c:\\users\\elied\\anaconda3\\lib\\site-packages (from bleach->nbconvert<8,>=6.4.5->voila) (0.5.1)\n",
      "Requirement already satisfied: fqdn in c:\\users\\elied\\anaconda3\\lib\\site-packages (from jsonschema>=4.17.3->jupyterlab-server<3,>=2.3.0->voila) (1.5.1)\n",
      "Requirement already satisfied: isoduration in c:\\users\\elied\\anaconda3\\lib\\site-packages (from jsonschema>=4.17.3->jupyterlab-server<3,>=2.3.0->voila) (20.11.0)\n",
      "Requirement already satisfied: jsonpointer>1.13 in c:\\users\\elied\\anaconda3\\lib\\site-packages (from jsonschema>=4.17.3->jupyterlab-server<3,>=2.3.0->voila) (2.1)\n",
      "Requirement already satisfied: uri-template in c:\\users\\elied\\anaconda3\\lib\\site-packages (from jsonschema>=4.17.3->jupyterlab-server<3,>=2.3.0->voila) (1.3.0)\n",
      "Requirement already satisfied: webcolors>=1.11 in c:\\users\\elied\\anaconda3\\lib\\site-packages (from jsonschema>=4.17.3->jupyterlab-server<3,>=2.3.0->voila) (1.13)\n",
      "Requirement already satisfied: cffi>=1.0.1 in c:\\users\\elied\\anaconda3\\lib\\site-packages (from argon2-cffi-bindings->argon2-cffi>=21.1->jupyter-server<3,>=2.0.0->voila) (1.15.1)\n",
      "Requirement already satisfied: pycparser in c:\\users\\elied\\anaconda3\\lib\\site-packages (from cffi>=1.0.1->argon2-cffi-bindings->argon2-cffi>=21.1->jupyter-server<3,>=2.0.0->voila) (2.21)\n",
      "Requirement already satisfied: arrow>=0.15.0 in c:\\users\\elied\\anaconda3\\lib\\site-packages (from isoduration->jsonschema>=4.17.3->jupyterlab-server<3,>=2.3.0->voila) (1.2.3)\n",
      "Installing collected packages: websockets, voila\n",
      "Successfully installed voila-0.5.7 websockets-12.0\n"
     ]
    },
    {
     "name": "stderr",
     "output_type": "stream",
     "text": [
      "Enabling: voila\n",
      "- Writing config: C:\\Users\\elied\\anaconda3\\etc\\jupyter\n",
      "    - Validating...\n",
      "      voila 0.5.7 ok\n"
     ]
    }
   ],
   "source": [
    "!pip install voila\n",
    "!jupyter serverextension enable --sys-prefix voila"
   ]
  },
  {
   "cell_type": "code",
   "execution_count": 2,
   "id": "b303b3c2-5f03-49c3-8b64-384138ea5d70",
   "metadata": {},
   "outputs": [],
   "source": [
    "from fastai.vision.all import *\n",
    "from fastai.vision.widgets import *"
   ]
  },
  {
   "cell_type": "code",
   "execution_count": 3,
   "id": "65ff92fc-6c48-4075-aeaf-138892e95c79",
   "metadata": {},
   "outputs": [],
   "source": [
    "path = Path()\n",
    "learn_inf = load_learner(path/'export.pkl', cpu=True)\n",
    "btn_upload = widgets.FileUpload()\n",
    "out_pl = widgets.Output()\n",
    "lbl_pred = widgets.Label()"
   ]
  },
  {
   "cell_type": "code",
   "execution_count": 4,
   "id": "b9936783-bb2d-4197-b64c-bd9ad0748ddc",
   "metadata": {},
   "outputs": [],
   "source": [
    "def on_data_change(change):\n",
    "    lbl_pred.value = ''\n",
    "    img = PILImage.create(btn_upload.data[-1])\n",
    "    out_pl.clear_output()\n",
    "    with out_pl: display(img.to_thumb(128,128))\n",
    "    pred,pred_idx,probs = learn_inf.predict(img)\n",
    "    lbl_pred.value = f'Prediction: {pred}; Probability: {probs[pred_idx]:.04f}'"
   ]
  },
  {
   "cell_type": "code",
   "execution_count": 5,
   "id": "30977cd2-ac7b-466b-8c43-095955e41e97",
   "metadata": {},
   "outputs": [],
   "source": [
    "btn_upload.observe(on_data_change, names=['data'])"
   ]
  },
  {
   "cell_type": "code",
   "execution_count": 6,
   "id": "51166075-0879-441b-a901-e453b6ce1ed2",
   "metadata": {},
   "outputs": [
    {
     "data": {
      "application/vnd.jupyter.widget-view+json": {
       "model_id": "92b6d1e6375841149231cfd8b1730ed3",
       "version_major": 2,
       "version_minor": 0
      },
      "text/plain": [
       "VBox(children=(Label(value='Select your bear!'), FileUpload(value={}, description='Upload'), Output(), Label(v…"
      ]
     },
     "metadata": {},
     "output_type": "display_data"
    }
   ],
   "source": [
    "display(VBox([widgets.Label('Select your bear!'), btn_upload, out_pl, lbl_pred]))"
   ]
  },
  {
   "cell_type": "code",
   "execution_count": null,
   "id": "6b46bd36-b926-4f57-be5d-125c8fb81dd8",
   "metadata": {},
   "outputs": [],
   "source": []
  },
  {
   "cell_type": "code",
   "execution_count": null,
   "id": "1460b8b1-5eb0-41e4-8195-b0ccae1b840d",
   "metadata": {},
   "outputs": [],
   "source": []
  },
  {
   "cell_type": "code",
   "execution_count": null,
   "id": "1d59b905-aa7b-408c-9ce1-bbe3e396cf10",
   "metadata": {},
   "outputs": [],
   "source": []
  },
  {
   "cell_type": "code",
   "execution_count": null,
   "id": "c0802c04-e28a-4d60-a612-eeca7e79f9e3",
   "metadata": {},
   "outputs": [],
   "source": []
  }
 ],
 "metadata": {
  "kernelspec": {
   "display_name": "Python (3.12)",
   "language": "python",
   "name": "python312"
  },
  "language_info": {
   "codemirror_mode": {
    "name": "ipython",
    "version": 3
   },
   "file_extension": ".py",
   "mimetype": "text/x-python",
   "name": "python",
   "nbconvert_exporter": "python",
   "pygments_lexer": "ipython3",
   "version": "3.12.4"
  }
 },
 "nbformat": 4,
 "nbformat_minor": 5
}
